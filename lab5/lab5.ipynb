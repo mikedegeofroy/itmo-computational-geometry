{
 "cells": [
  {
   "cell_type": "markdown",
   "id": "178214c2",
   "metadata": {},
   "source": [
    "## Labwork 5 | Convex hull of a set."
   ]
  },
  {
   "cell_type": "markdown",
   "id": "55950773",
   "metadata": {},
   "source": [
    "### Task 1"
   ]
  },
  {
   "cell_type": "code",
   "execution_count": null,
   "id": "1da11f12",
   "metadata": {},
   "outputs": [],
   "source": [
    "import numpy as np\n",
    "from scipy.spatial import ConvexHull\n",
    "\n",
    "# Generate set E with n ≥ 10 random points\n",
    "np.random.seed(0)\n",
    "E = np.random.randint(0, 100, (15, 2))\n",
    "\n",
    "# Jarvis March (Gift Wrapping)\n",
    "def jarvis_march(points):\n",
    "    n = len(points)\n",
    "    hull = []\n",
    "\n",
    "    leftmost = min(points, key=lambda p: (p[0], p[1]))\n",
    "    point_on_hull = leftmost\n",
    "    while True:\n",
    "        hull.append(point_on_hull)\n",
    "        endpoint = points[0]\n",
    "        for j in range(1, n):\n",
    "            if (np.array_equal(endpoint, point_on_hull) or \n",
    "                np.cross(points[j] - point_on_hull, endpoint - point_on_hull) > 0):\n",
    "                endpoint = points[j]\n",
    "        point_on_hull = endpoint\n",
    "        if np.array_equal(endpoint, hull[0]):\n",
    "            break\n",
    "    return np.array(hull)\n",
    "\n",
    "# Graham Scan using scipy ConvexHull (faster and robust)\n",
    "def graham_scan(points):\n",
    "    hull = ConvexHull(points)\n",
    "    return points[hull.vertices]\n",
    "\n",
    "# Compute perimeter and area of polygon\n",
    "def polygon_perimeter_area(poly):\n",
    "    d = np.linalg.norm(np.roll(poly, -1, axis=0) - poly, axis=1)\n",
    "    perimeter = d.sum()\n",
    "    area = 0.5 * np.abs(np.dot(poly[:,0], np.roll(poly[:,1], -1)) - \n",
    "                        np.dot(poly[:,1], np.roll(poly[:,0], -1)))\n",
    "    return perimeter, area\n",
    "\n",
    "# Apply both algorithms\n",
    "hull_jarvis = jarvis_march(E)\n",
    "hull_graham = graham_scan(E)\n",
    "\n",
    "# Compute perimeter and area\n",
    "perimeter_jarvis, area_jarvis = polygon_perimeter_area(hull_jarvis)\n",
    "perimeter_graham, area_graham = polygon_perimeter_area(hull_graham)\n",
    "\n",
    "E, hull_jarvis, hull_graham, (perimeter_jarvis, area_jarvis), (perimeter_graham, area_graham)\n"
   ]
  },
  {
   "cell_type": "markdown",
   "id": "0fbad0b1",
   "metadata": {},
   "source": [
    "### Task 2"
   ]
  },
  {
   "cell_type": "code",
   "execution_count": null,
   "id": "7efe54ec",
   "metadata": {},
   "outputs": [],
   "source": [
    "# Generate two random point sets E1 and E2 with at least 5 points each\n",
    "np.random.seed(1)\n",
    "E1 = np.random.randint(0, 100, (7, 2))\n",
    "E2 = np.random.randint(0, 100, (8, 2))\n",
    "\n",
    "# Compute convex hulls\n",
    "hull_E1 = ConvexHull(E1)\n",
    "hull_E2 = ConvexHull(E2)\n",
    "poly_E1 = E1[hull_E1.vertices]\n",
    "poly_E2 = E2[hull_E2.vertices]\n",
    "\n",
    "# Function to compute polygon intersection using shapely\n",
    "from shapely.geometry import Polygon, Point\n",
    "\n",
    "poly1 = Polygon(poly_E1)\n",
    "poly2 = Polygon(poly_E2)\n",
    "intersection = poly1.intersection(poly2)\n",
    "\n",
    "# Find interior points of E1 and E2 that lie strictly inside the intersection\n",
    "internal_E1 = [tuple(p) for p in E1 if intersection.contains(Point(p))]\n",
    "internal_E2 = [tuple(p) for p in E2 if intersection.contains(Point(p))]\n",
    "\n",
    "# Outputs\n",
    "E1, E2, poly_E1, poly_E2, intersection.wkt, internal_E1, internal_E2\n"
   ]
  }
 ],
 "metadata": {
  "language_info": {
   "name": "python"
  }
 },
 "nbformat": 4,
 "nbformat_minor": 5
}
