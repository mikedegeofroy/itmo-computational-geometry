{
 "cells": [
  {
   "cell_type": "markdown",
   "id": "178214c2",
   "metadata": {},
   "source": [
    "## Labwork 5 | Convex hull of a set."
   ]
  },
  {
   "cell_type": "markdown",
   "id": "55950773",
   "metadata": {},
   "source": [
    "### Task 1"
   ]
  },
  {
   "cell_type": "code",
   "execution_count": 4,
   "id": "1da11f12",
   "metadata": {},
   "outputs": [
    {
     "name": "stderr",
     "output_type": "stream",
     "text": [
      "/var/folders/8z/5xw0ppns7xd8g5prmfwnctw80000gn/T/ipykernel_75352/2185683131.py:20: DeprecationWarning: Arrays of 2-dimensional vectors are deprecated. Use arrays of 3-dimensional vectors instead. (deprecated in NumPy 2.0)\n",
      "  np.cross(points[j] - point_on_hull, endpoint - point_on_hull) > 0):\n"
     ]
    },
    {
     "data": {
      "text/plain": [
       "(array([[44, 47],\n",
       "        [64, 67],\n",
       "        [67,  9],\n",
       "        [83, 21],\n",
       "        [36, 87],\n",
       "        [70, 88],\n",
       "        [88, 12],\n",
       "        [58, 65],\n",
       "        [39, 87],\n",
       "        [46, 88],\n",
       "        [81, 37],\n",
       "        [25, 77],\n",
       "        [72,  9],\n",
       "        [20, 80],\n",
       "        [69, 79]]),\n",
       " array([[20, 80],\n",
       "        [67,  9],\n",
       "        [72,  9],\n",
       "        [88, 12],\n",
       "        [70, 88],\n",
       "        [46, 88],\n",
       "        [36, 87]]),\n",
       " array([[88, 12],\n",
       "        [70, 88],\n",
       "        [46, 88],\n",
       "        [36, 87],\n",
       "        [20, 80],\n",
       "        [67,  9],\n",
       "        [72,  9]]),\n",
       " (np.float64(236.04237400249212), np.float64(2918.5)),\n",
       " (np.float64(236.04237400249212), np.float64(2918.5)))"
      ]
     },
     "execution_count": 4,
     "metadata": {},
     "output_type": "execute_result"
    }
   ],
   "source": [
    "import numpy as np\n",
    "from scipy.spatial import ConvexHull\n",
    "\n",
    "# Generate set E with n ≥ 10 random points\n",
    "np.random.seed(0)\n",
    "E = np.random.randint(0, 100, (15, 2))\n",
    "\n",
    "# Jarvis March (Gift Wrapping)\n",
    "def jarvis_march(points):\n",
    "    n = len(points)\n",
    "    hull = []\n",
    "\n",
    "    leftmost = min(points, key=lambda p: (p[0], p[1]))\n",
    "    point_on_hull = leftmost\n",
    "    while True:\n",
    "        hull.append(point_on_hull)\n",
    "        endpoint = points[0]\n",
    "        for j in range(1, n):\n",
    "            if (np.array_equal(endpoint, point_on_hull) or \n",
    "                np.cross(points[j] - point_on_hull, endpoint - point_on_hull) > 0):\n",
    "                endpoint = points[j]\n",
    "        point_on_hull = endpoint\n",
    "        if np.array_equal(endpoint, hull[0]):\n",
    "            break\n",
    "    return np.array(hull)\n",
    "\n",
    "# Graham Scan using scipy ConvexHull (faster and robust)\n",
    "def graham_scan(points):\n",
    "    hull = ConvexHull(points)\n",
    "    return points[hull.vertices]\n",
    "\n",
    "# Compute perimeter and area of polygon\n",
    "def polygon_perimeter_area(poly):\n",
    "    d = np.linalg.norm(np.roll(poly, -1, axis=0) - poly, axis=1)\n",
    "    perimeter = d.sum()\n",
    "    area = 0.5 * np.abs(np.dot(poly[:,0], np.roll(poly[:,1], -1)) - \n",
    "                        np.dot(poly[:,1], np.roll(poly[:,0], -1)))\n",
    "    return perimeter, area\n",
    "\n",
    "# Apply both algorithms\n",
    "hull_jarvis = jarvis_march(E)\n",
    "hull_graham = graham_scan(E)\n",
    "\n",
    "# Compute perimeter and area\n",
    "perimeter_jarvis, area_jarvis = polygon_perimeter_area(hull_jarvis)\n",
    "perimeter_graham, area_graham = polygon_perimeter_area(hull_graham)\n",
    "\n",
    "E, hull_jarvis, hull_graham, (perimeter_jarvis, area_jarvis), (perimeter_graham, area_graham)\n"
   ]
  },
  {
   "cell_type": "markdown",
   "id": "0fbad0b1",
   "metadata": {},
   "source": [
    "### Task 2"
   ]
  },
  {
   "cell_type": "code",
   "execution_count": 6,
   "id": "7efe54ec",
   "metadata": {},
   "outputs": [
    {
     "ename": "ModuleNotFoundError",
     "evalue": "No module named 'shapely'",
     "output_type": "error",
     "traceback": [
      "\u001b[0;31m---------------------------------------------------------------------------\u001b[0m",
      "\u001b[0;31mModuleNotFoundError\u001b[0m                       Traceback (most recent call last)",
      "Cell \u001b[0;32mIn[6], line 13\u001b[0m\n\u001b[1;32m     10\u001b[0m poly_E2 \u001b[38;5;241m=\u001b[39m E2[hull_E2\u001b[38;5;241m.\u001b[39mvertices]\n\u001b[1;32m     12\u001b[0m \u001b[38;5;66;03m# Function to compute polygon intersection using shapely\u001b[39;00m\n\u001b[0;32m---> 13\u001b[0m \u001b[38;5;28;01mfrom\u001b[39;00m \u001b[38;5;21;01mshapely\u001b[39;00m\u001b[38;5;21;01m.\u001b[39;00m\u001b[38;5;21;01mgeometry\u001b[39;00m \u001b[38;5;28;01mimport\u001b[39;00m Polygon, Point\n\u001b[1;32m     15\u001b[0m poly1 \u001b[38;5;241m=\u001b[39m Polygon(poly_E1)\n\u001b[1;32m     16\u001b[0m poly2 \u001b[38;5;241m=\u001b[39m Polygon(poly_E2)\n",
      "\u001b[0;31mModuleNotFoundError\u001b[0m: No module named 'shapely'"
     ]
    }
   ],
   "source": [
    "# Generate two random point sets E1 and E2 with at least 5 points each\n",
    "np.random.seed(1)\n",
    "E1 = np.random.randint(0, 100, (7, 2))\n",
    "E2 = np.random.randint(0, 100, (8, 2))\n",
    "\n",
    "# Compute convex hulls\n",
    "hull_E1 = ConvexHull(E1)\n",
    "hull_E2 = ConvexHull(E2)\n",
    "poly_E1 = E1[hull_E1.vertices]\n",
    "poly_E2 = E2[hull_E2.vertices]\n",
    "\n",
    "# Function to compute polygon intersection using shapely\n",
    "from shapely.geometry import Polygon, Point\n",
    "\n",
    "poly1 = Polygon(poly_E1)\n",
    "poly2 = Polygon(poly_E2)\n",
    "intersection = poly1.intersection(poly2)\n",
    "\n",
    "# Find interior points of E1 and E2 that lie strictly inside the intersection\n",
    "internal_E1 = [tuple(p) for p in E1 if intersection.contains(Point(p))]\n",
    "internal_E2 = [tuple(p) for p in E2 if intersection.contains(Point(p))]\n",
    "\n",
    "# Outputs\n",
    "E1, E2, poly_E1, poly_E2, intersection.wkt, internal_E1, internal_E2\n"
   ]
  }
 ],
 "metadata": {
  "kernelspec": {
   "display_name": "Python 3",
   "language": "python",
   "name": "python3"
  },
  "language_info": {
   "codemirror_mode": {
    "name": "ipython",
    "version": 3
   },
   "file_extension": ".py",
   "mimetype": "text/x-python",
   "name": "python",
   "nbconvert_exporter": "python",
   "pygments_lexer": "ipython3",
   "version": "3.12.3"
  }
 },
 "nbformat": 4,
 "nbformat_minor": 5
}
